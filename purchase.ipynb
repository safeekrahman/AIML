{
 "cells": [
  {
   "cell_type": "code",
   "execution_count": 57,
   "id": "eba2f191-e2de-49e8-9efc-2a219ccc3f2f",
   "metadata": {},
   "outputs": [],
   "source": [
    "import pandas as pd\n",
    "import numpy as np\n",
    "from sklearn.neighbors import KNeighborsClassifier\n"
   ]
  },
  {
   "cell_type": "code",
   "execution_count": 59,
   "id": "01294c8c-6e31-4e97-9afe-c0b53195f5e6",
   "metadata": {},
   "outputs": [
    {
     "name": "stdout",
     "output_type": "stream",
     "text": [
      "    User ID  Gender  Age  EstimatedSalary  Purchased\n",
      "0  15624510    Male   19            19000          0\n",
      "1  15810944    Male   35            20000          0\n",
      "2  15668575  Female   26            43000          0\n",
      "3  15603246  Female   27            57000          0\n",
      "4  15804002    Male   19            76000          0\n"
     ]
    }
   ],
   "source": [
    "data=pd.read_csv(\"Social_Network_Ads (1).csv\")\n",
    "print(data.head())"
   ]
  },
  {
   "cell_type": "code",
   "execution_count": 61,
   "id": "4c90f7f5-f04e-48ea-887e-152df1c730bb",
   "metadata": {},
   "outputs": [],
   "source": [
    "data=pd.get_dummies(data,columns=['Gender'],drop_first=True,dtype=int)"
   ]
  },
  {
   "cell_type": "code",
   "execution_count": 63,
   "id": "79cc18af-bb76-4c03-acc4-44c953944f93",
   "metadata": {},
   "outputs": [
    {
     "name": "stdout",
     "output_type": "stream",
     "text": [
      "    User ID  Age  EstimatedSalary  Purchased  Gender_Male\n",
      "0  15624510   19            19000          0            1\n",
      "1  15810944   35            20000          0            1\n",
      "2  15668575   26            43000          0            0\n",
      "3  15603246   27            57000          0            0\n",
      "4  15804002   19            76000          0            1\n"
     ]
    }
   ],
   "source": [
    "print(data_encode.head())"
   ]
  },
  {
   "cell_type": "code",
   "execution_count": 65,
   "id": "5f132ae2-8686-4df2-aad5-68b84e58ff44",
   "metadata": {},
   "outputs": [
    {
     "name": "stdout",
     "output_type": "stream",
     "text": [
      "Purchased\n",
      "0    257\n",
      "1    143\n",
      "Name: count, dtype: int64\n"
     ]
    }
   ],
   "source": [
    "print(data['Purchased'].value_counts())"
   ]
  },
  {
   "cell_type": "code",
   "execution_count": 67,
   "id": "78f209b7-f961-495a-b7b3-2c1956baf6ef",
   "metadata": {},
   "outputs": [
    {
     "name": "stdout",
     "output_type": "stream",
     "text": [
      "User ID            0\n",
      "Age                0\n",
      "EstimatedSalary    0\n",
      "Purchased          0\n",
      "Gender_Male        0\n",
      "dtype: int64\n"
     ]
    }
   ],
   "source": [
    "print(data.isnull().sum())"
   ]
  },
  {
   "cell_type": "code",
   "execution_count": 69,
   "id": "7d35742a-f02e-4b34-bfa0-4f1d05126b20",
   "metadata": {},
   "outputs": [
    {
     "name": "stdout",
     "output_type": "stream",
     "text": [
      "<class 'pandas.core.frame.DataFrame'>\n",
      "RangeIndex: 400 entries, 0 to 399\n",
      "Data columns (total 5 columns):\n",
      " #   Column           Non-Null Count  Dtype\n",
      "---  ------           --------------  -----\n",
      " 0   User ID          400 non-null    int64\n",
      " 1   Age              400 non-null    int64\n",
      " 2   EstimatedSalary  400 non-null    int64\n",
      " 3   Purchased        400 non-null    int64\n",
      " 4   Gender_Male      400 non-null    int32\n",
      "dtypes: int32(1), int64(4)\n",
      "memory usage: 14.2 KB\n"
     ]
    }
   ],
   "source": [
    "data.info()"
   ]
  },
  {
   "cell_type": "code",
   "execution_count": 73,
   "id": "857ba5f1-83b0-412c-819d-435ce319e790",
   "metadata": {},
   "outputs": [],
   "source": [
    "int_data=data.drop(columns=[\"Gender_Male\",\"Purchased\"])"
   ]
  },
  {
   "cell_type": "code",
   "execution_count": 75,
   "id": "4a9fc83e-86c3-421e-8fce-2f1ee0a612e4",
   "metadata": {},
   "outputs": [
    {
     "data": {
      "text/plain": [
       "Index(['User ID', 'Age', 'EstimatedSalary', 'Purchased', 'Gender_Male'], dtype='object')"
      ]
     },
     "execution_count": 75,
     "metadata": {},
     "output_type": "execute_result"
    }
   ],
   "source": [
    "data.columns"
   ]
  },
  {
   "cell_type": "code",
   "execution_count": 77,
   "id": "5b49a0c6-1f1e-496e-b06d-0f1c304d0286",
   "metadata": {},
   "outputs": [
    {
     "name": "stdout",
     "output_type": "stream",
     "text": [
      "    User ID  Age  EstimatedSalary  Purchased  Gender_Male\n",
      "0  15624510   19            19000          0            1\n",
      "1  15810944   35            20000          0            1\n",
      "2  15668575   26            43000          0            0\n",
      "3  15603246   27            57000          0            0\n",
      "4  15804002   19            76000          0            1\n"
     ]
    }
   ],
   "source": [
    "print(data.head())"
   ]
  },
  {
   "cell_type": "code",
   "execution_count": 81,
   "id": "7eab359c-0707-4f8a-8a41-4f4db1954aba",
   "metadata": {},
   "outputs": [
    {
     "data": {
      "image/png": "[encoded data removed]",
      "text/plain": [
       "<Figure size 640x480 with 1 Axes>"
      ]
     },
     "metadata": {},
     "output_type": "display_data"
    }
   ],
   "source": [
    "import seaborn as sns\n",
    "import matplotlib.pyplot as plt\n",
    "\n",
    "# Plot boxplot for each numerical column to visually inspect outliers\n",
    "sns.boxplot(data=int_data)\n",
    "plt.title('Boxplot for Numerical Data')\n",
    "plt.show()\n"
   ]
  },
  {
   "cell_type": "code",
   "execution_count": 85,
   "id": "b98bcb3e-ad09-4305-ae4e-6a777217ebc7",
   "metadata": {},
   "outputs": [
    {
     "name": "stdout",
     "output_type": "stream",
     "text": [
      "User ID            400\n",
      "Age                400\n",
      "EstimatedSalary    400\n",
      "dtype: int64\n"
     ]
    }
   ],
   "source": [
    "# Get the count of non-null values in each column\n",
    "column_counts = int_data.count()\n",
    "\n",
    "# Print the count for each column\n",
    "print(column_counts)\n"
   ]
  },
  {
   "cell_type": "code",
   "execution_count": 93,
   "id": "1e145db9-7d2e-43e1-95c4-3b21737df84f",
   "metadata": {},
   "outputs": [
    {
     "name": "stdout",
     "output_type": "stream",
     "text": [
      "Original dataset shape: Purchased\n",
      "0    257\n",
      "1    143\n",
      "Name: count, dtype: int64\n",
      "After SMOTETomek: Purchased\n",
      "0    219\n",
      "1    219\n",
      "Name: count, dtype: int64\n"
     ]
    }
   ],
   "source": [
    "from imblearn.combine import SMOTETomek\n",
    "X = data.drop(columns=['Purchased'])\n",
    "y = data['Purchased'] \n",
    "smote_tomek=SMOTETomek(random_state=42)\n",
    "X_resampled, y_resampled = smote_tomek.fit_resample(X, y)\n",
    "print(\"Original dataset shape:\", y.value_counts())\n",
    "print(\"After SMOTETomek:\", y_resampled.value_counts())\n"
   ]
  },
  {
   "cell_type": "code",
   "execution_count": 95,
   "id": "50e409a2-9dd3-47c1-a561-82aa11cd2320",
   "metadata": {},
   "outputs": [
    {
     "name": "stdout",
     "output_type": "stream",
     "text": [
      "Training set shape: (350, 4)\n",
      "Testing set shape: (88, 4)\n",
      "Training class distribution: Purchased\n",
      "1    175\n",
      "0    175\n",
      "Name: count, dtype: int64\n",
      "Testing class distribution: Purchased\n",
      "1    44\n",
      "0    44\n",
      "Name: count, dtype: int64\n"
     ]
    }
   ],
   "source": [
    "from sklearn.model_selection import train_test_split\n",
    "X_train, X_test, y_train, y_test = train_test_split(\n",
    "    X_resampled, y_resampled, test_size=0.2, random_state=42, stratify=y_resampled)\n",
    "print(\"Training set shape:\", X_train.shape)\n",
    "print(\"Testing set shape:\", X_test.shape)\n",
    "print(\"Training class distribution:\", y_train.value_counts())\n",
    "print(\"Testing class distribution:\", y_test.value_counts())"
   ]
  },
  {
   "cell_type": "code",
   "execution_count": 97,
   "id": "a43b9526-1a3e-4ed6-bb27-d1411a077bcf",
   "metadata": {},
   "outputs": [
    {
     "name": "stdout",
     "output_type": "stream",
     "text": [
      "Confusion Matrix:\n",
      " [[37  7]\n",
      " [ 9 35]]\n",
      "\n",
      "Classification Report:\n",
      "               precision    recall  f1-score   support\n",
      "\n",
      "           0       0.80      0.84      0.82        44\n",
      "           1       0.83      0.80      0.81        44\n",
      "\n",
      "    accuracy                           0.82        88\n",
      "   macro avg       0.82      0.82      0.82        88\n",
      "weighted avg       0.82      0.82      0.82        88\n",
      "\n",
      "Accuracy Score: 0.8181818181818182\n"
     ]
    }
   ],
   "source": [
    "from sklearn.neighbors import KNeighborsClassifier\n",
    "from sklearn.metrics import classification_report, confusion_matrix, accuracy_score\n",
    "knn = KNeighborsClassifier(n_neighbors=5) \n",
    "knn.fit(X_train, y_train)\n",
    "y_pred = knn.predict(X_test)\n",
    "print(\"Confusion Matrix:\\n\", confusion_matrix(y_test, y_pred))\n",
    "print(\"\\nClassification Report:\\n\", classification_report(y_test, y_pred))\n",
    "print(\"Accuracy Score:\", accuracy_score(y_test, y_pred))"
   ]
  },
  {
   "cell_type": "code",
   "execution_count": null,
   "id": "4ad29d8a-6dc7-43a6-89f5-9310e3b6a5ef",
   "metadata": {},
   "outputs": [],
   "source": []
  }
 ],
 "metadata": {
  "kernelspec": {
   "display_name": "Python 3 (ipykernel)",
   "language": "python",
   "name": "python3"
  },
  "language_info": {
   "codemirror_mode": {
    "name": "ipython",
    "version": 3
   },
   "file_extension": ".py",
   "mimetype": "text/x-python",
   "name": "python",
   "nbconvert_exporter": "python",
   "pygments_lexer": "ipython3",
   "version": "3.12.4"
  }
 },
 "nbformat": 4,
 "nbformat_minor": 5
}
